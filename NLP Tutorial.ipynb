{
 "cells": [
  {
   "cell_type": "markdown",
   "metadata": {},
   "source": [
    "# Text Analysis and Classification of Reviews in Python\n",
    "## Classification Model for Sentiment Analysis of Reviews - Case Study"
   ]
  },
  {
   "cell_type": "markdown",
   "metadata": {},
   "source": [
    "Text Analysis is an important application of machine learning algorithms. Since the raw text or a sequence of symbols cannot be fed directly to the algorithms themselves as most of them expect numerical feature vectors with proper dimensions rather than the raw text documents which is an example of unstructured data. For Classification you will be using Machine Learning Algorithms such as Logistic Regression. You will also be using some NLP techniques such as [count Vectorizer](https://www.datacamp.com/community/tutorials/scikit-learn-fake-news) and [Term Frequency-Inverse document Matrix (TF-IDF)](https://www.datacamp.com/community/tutorials/scikit-learn-fake-news). You will be using a reviews and ratings data available [here](http://jmcauley.ucsd.edu/data/amazon/) but since the data is huge, to make things bit easier for you, use a subset that you can also download from our Github Repo [Github_Repo]().     \n",
    "Okay, so for give it a start you will be following some steps mentioned below:  \n",
    "\n",
    "1. Data Preparation, In this section you will prepare our data from simple text and ratings to a matrix that is acceptable by Machine Learning Algorithms. \n",
    "2. Applying NLP techniques to extract features out of text such as Tokenization and TF-IDF you will be using [scikit learn](). \n",
    "3. Building a Classification Model. \n",
    "4. Evaluating Model \n",
    "5. Finally Predicting a new review that even you can write by yourself (but beware the words you use in your review should be there in training set, else you will get an Error!)."
   ]
  },
  {
   "cell_type": "markdown",
   "metadata": {},
   "source": [
    "## Data Preparation\n",
    "Let us Start by loading the dataset using  `pandas.read_csv()` function and also importing pandas and numpy which is required during data preparation. "
   ]
  },
  {
   "cell_type": "code",
   "execution_count": 1,
   "metadata": {},
   "outputs": [
    {
     "data": {
      "text/html": [
       "<div>\n",
       "<style>\n",
       "    .dataframe thead tr:only-child th {\n",
       "        text-align: right;\n",
       "    }\n",
       "\n",
       "    .dataframe thead th {\n",
       "        text-align: left;\n",
       "    }\n",
       "\n",
       "    .dataframe tbody tr th {\n",
       "        vertical-align: top;\n",
       "    }\n",
       "</style>\n",
       "<table border=\"1\" class=\"dataframe\">\n",
       "  <thead>\n",
       "    <tr style=\"text-align: right;\">\n",
       "      <th></th>\n",
       "      <th>Product Name</th>\n",
       "      <th>Brand Name</th>\n",
       "      <th>Price</th>\n",
       "      <th>Rating</th>\n",
       "      <th>Reviews</th>\n",
       "      <th>Review Votes</th>\n",
       "    </tr>\n",
       "  </thead>\n",
       "  <tbody>\n",
       "    <tr>\n",
       "      <th>0</th>\n",
       "      <td>Sony XPERIA Z2 D6503 FACTORY UNLOCKED Internat...</td>\n",
       "      <td>NaN</td>\n",
       "      <td>244.95</td>\n",
       "      <td>5</td>\n",
       "      <td>Very good one! Better than Samsung S and iphon...</td>\n",
       "      <td>0.0</td>\n",
       "    </tr>\n",
       "    <tr>\n",
       "      <th>1</th>\n",
       "      <td>Apple iPhone 5c 8GB (Pink) - Verizon Wireless</td>\n",
       "      <td>Apple</td>\n",
       "      <td>194.99</td>\n",
       "      <td>1</td>\n",
       "      <td>The phone needed a SIM card, would have been n...</td>\n",
       "      <td>1.0</td>\n",
       "    </tr>\n",
       "    <tr>\n",
       "      <th>2</th>\n",
       "      <td>Motorola Droid RAZR MAXX XT912 M Verizon Smart...</td>\n",
       "      <td>Motorola</td>\n",
       "      <td>174.99</td>\n",
       "      <td>5</td>\n",
       "      <td>I was 3 months away from my upgrade and my Str...</td>\n",
       "      <td>3.0</td>\n",
       "    </tr>\n",
       "    <tr>\n",
       "      <th>3</th>\n",
       "      <td>CNPGD [U.S. Office Extended Warranty] Smartwat...</td>\n",
       "      <td>CNPGD</td>\n",
       "      <td>49.99</td>\n",
       "      <td>1</td>\n",
       "      <td>an experience i want to forget</td>\n",
       "      <td>0.0</td>\n",
       "    </tr>\n",
       "    <tr>\n",
       "      <th>4</th>\n",
       "      <td>Apple iPhone 7 Unlocked Phone 256 GB - US Vers...</td>\n",
       "      <td>Apple</td>\n",
       "      <td>922.00</td>\n",
       "      <td>5</td>\n",
       "      <td>GREAT PHONE WORK ACCORDING MY EXPECTATIONS.</td>\n",
       "      <td>1.0</td>\n",
       "    </tr>\n",
       "  </tbody>\n",
       "</table>\n",
       "</div>"
      ],
      "text/plain": [
       "                                        Product Name Brand Name   Price  \\\n",
       "0  Sony XPERIA Z2 D6503 FACTORY UNLOCKED Internat...        NaN  244.95   \n",
       "1      Apple iPhone 5c 8GB (Pink) - Verizon Wireless      Apple  194.99   \n",
       "2  Motorola Droid RAZR MAXX XT912 M Verizon Smart...   Motorola  174.99   \n",
       "3  CNPGD [U.S. Office Extended Warranty] Smartwat...      CNPGD   49.99   \n",
       "4  Apple iPhone 7 Unlocked Phone 256 GB - US Vers...      Apple  922.00   \n",
       "\n",
       "   Rating                                            Reviews  Review Votes  \n",
       "0       5  Very good one! Better than Samsung S and iphon...           0.0  \n",
       "1       1  The phone needed a SIM card, would have been n...           1.0  \n",
       "2       5  I was 3 months away from my upgrade and my Str...           3.0  \n",
       "3       1                     an experience i want to forget           0.0  \n",
       "4       5        GREAT PHONE WORK ACCORDING MY EXPECTATIONS.           1.0  "
      ]
     },
     "execution_count": 1,
     "metadata": {},
     "output_type": "execute_result"
    }
   ],
   "source": [
    "import pandas as pd\n",
    "import numpy as np\n",
    "import matplotlib.pyplot as plt\n",
    "%matplotlib inline\n",
    "df = pd.read_csv('Amazon_reviews.csv')\n",
    "df.head()"
   ]
  },
  {
   "cell_type": "markdown",
   "metadata": {},
   "source": [
    "## Encoding Sentiments \n",
    "To avoid errors in further steps like the modeling part it is better to drop rows which have missing values. Now, the question is how you can define a review to be a positive one or a negative, so for this you are creating a binary variable \"Positively_Rated\" in which 1 signifies a review is Positively rated and 0 means Negative rated, adding it to our dataset.   A simple rule to mark a positive and negative rating can be obtained by selecting rating > 3 as 1 (positively rated) and others as 0 (Negatively rated) removing neutral ratings which is equal to 3."
   ]
  },
  {
   "cell_type": "code",
   "execution_count": 2,
   "metadata": {},
   "outputs": [
    {
     "data": {
      "text/html": [
       "<div>\n",
       "<style>\n",
       "    .dataframe thead tr:only-child th {\n",
       "        text-align: right;\n",
       "    }\n",
       "\n",
       "    .dataframe thead th {\n",
       "        text-align: left;\n",
       "    }\n",
       "\n",
       "    .dataframe tbody tr th {\n",
       "        vertical-align: top;\n",
       "    }\n",
       "</style>\n",
       "<table border=\"1\" class=\"dataframe\">\n",
       "  <thead>\n",
       "    <tr style=\"text-align: right;\">\n",
       "      <th></th>\n",
       "      <th>Product Name</th>\n",
       "      <th>Brand Name</th>\n",
       "      <th>Price</th>\n",
       "      <th>Rating</th>\n",
       "      <th>Reviews</th>\n",
       "      <th>Review Votes</th>\n",
       "      <th>Positively_Rated</th>\n",
       "    </tr>\n",
       "  </thead>\n",
       "  <tbody>\n",
       "    <tr>\n",
       "      <th>1</th>\n",
       "      <td>Apple iPhone 5c 8GB (Pink) - Verizon Wireless</td>\n",
       "      <td>Apple</td>\n",
       "      <td>194.99</td>\n",
       "      <td>1</td>\n",
       "      <td>The phone needed a SIM card, would have been n...</td>\n",
       "      <td>1.0</td>\n",
       "      <td>0</td>\n",
       "    </tr>\n",
       "    <tr>\n",
       "      <th>2</th>\n",
       "      <td>Motorola Droid RAZR MAXX XT912 M Verizon Smart...</td>\n",
       "      <td>Motorola</td>\n",
       "      <td>174.99</td>\n",
       "      <td>5</td>\n",
       "      <td>I was 3 months away from my upgrade and my Str...</td>\n",
       "      <td>3.0</td>\n",
       "      <td>1</td>\n",
       "    </tr>\n",
       "    <tr>\n",
       "      <th>3</th>\n",
       "      <td>CNPGD [U.S. Office Extended Warranty] Smartwat...</td>\n",
       "      <td>CNPGD</td>\n",
       "      <td>49.99</td>\n",
       "      <td>1</td>\n",
       "      <td>an experience i want to forget</td>\n",
       "      <td>0.0</td>\n",
       "      <td>0</td>\n",
       "    </tr>\n",
       "    <tr>\n",
       "      <th>4</th>\n",
       "      <td>Apple iPhone 7 Unlocked Phone 256 GB - US Vers...</td>\n",
       "      <td>Apple</td>\n",
       "      <td>922.00</td>\n",
       "      <td>5</td>\n",
       "      <td>GREAT PHONE WORK ACCORDING MY EXPECTATIONS.</td>\n",
       "      <td>1.0</td>\n",
       "      <td>1</td>\n",
       "    </tr>\n",
       "    <tr>\n",
       "      <th>5</th>\n",
       "      <td>Nokia N8 Unlocked GSM Touch Screen Phone Featu...</td>\n",
       "      <td>Nokia</td>\n",
       "      <td>95.00</td>\n",
       "      <td>5</td>\n",
       "      <td>I fell in love with this phone because it did ...</td>\n",
       "      <td>0.0</td>\n",
       "      <td>1</td>\n",
       "    </tr>\n",
       "    <tr>\n",
       "      <th>6</th>\n",
       "      <td>Blackberry Torch 2 9810 Unlocked Phone with 1....</td>\n",
       "      <td>BlackBerry</td>\n",
       "      <td>77.49</td>\n",
       "      <td>5</td>\n",
       "      <td>I am pleased with this Blackberry phone! The p...</td>\n",
       "      <td>0.0</td>\n",
       "      <td>1</td>\n",
       "    </tr>\n",
       "    <tr>\n",
       "      <th>7</th>\n",
       "      <td>Motorola Moto E (1st Generation) - Black - 4 G...</td>\n",
       "      <td>Motorola</td>\n",
       "      <td>89.99</td>\n",
       "      <td>5</td>\n",
       "      <td>Great product, best value for money smartphone...</td>\n",
       "      <td>0.0</td>\n",
       "      <td>1</td>\n",
       "    </tr>\n",
       "    <tr>\n",
       "      <th>9</th>\n",
       "      <td>OtterBox 77-29864 Defender Series Hybrid Case ...</td>\n",
       "      <td>OtterBox</td>\n",
       "      <td>9.99</td>\n",
       "      <td>5</td>\n",
       "      <td>I've bought 3 no problems. Fast delivery.</td>\n",
       "      <td>0.0</td>\n",
       "      <td>1</td>\n",
       "    </tr>\n",
       "    <tr>\n",
       "      <th>10</th>\n",
       "      <td>Verizon HTC Rezound 4G Android Smarphone - 8MP...</td>\n",
       "      <td>HTC</td>\n",
       "      <td>74.99</td>\n",
       "      <td>4</td>\n",
       "      <td>Great phone for the price...</td>\n",
       "      <td>0.0</td>\n",
       "      <td>1</td>\n",
       "    </tr>\n",
       "    <tr>\n",
       "      <th>11</th>\n",
       "      <td>RCA M1 Unlocked Cell Phone, Dual Sim, 5Mp Came...</td>\n",
       "      <td>RCA</td>\n",
       "      <td>159.99</td>\n",
       "      <td>5</td>\n",
       "      <td>My mom is not good with new technoloy but this...</td>\n",
       "      <td>4.0</td>\n",
       "      <td>1</td>\n",
       "    </tr>\n",
       "  </tbody>\n",
       "</table>\n",
       "</div>"
      ],
      "text/plain": [
       "                                         Product Name  Brand Name   Price  \\\n",
       "1       Apple iPhone 5c 8GB (Pink) - Verizon Wireless       Apple  194.99   \n",
       "2   Motorola Droid RAZR MAXX XT912 M Verizon Smart...    Motorola  174.99   \n",
       "3   CNPGD [U.S. Office Extended Warranty] Smartwat...       CNPGD   49.99   \n",
       "4   Apple iPhone 7 Unlocked Phone 256 GB - US Vers...       Apple  922.00   \n",
       "5   Nokia N8 Unlocked GSM Touch Screen Phone Featu...       Nokia   95.00   \n",
       "6   Blackberry Torch 2 9810 Unlocked Phone with 1....  BlackBerry   77.49   \n",
       "7   Motorola Moto E (1st Generation) - Black - 4 G...    Motorola   89.99   \n",
       "9   OtterBox 77-29864 Defender Series Hybrid Case ...    OtterBox    9.99   \n",
       "10  Verizon HTC Rezound 4G Android Smarphone - 8MP...         HTC   74.99   \n",
       "11  RCA M1 Unlocked Cell Phone, Dual Sim, 5Mp Came...         RCA  159.99   \n",
       "\n",
       "    Rating                                            Reviews  Review Votes  \\\n",
       "1        1  The phone needed a SIM card, would have been n...           1.0   \n",
       "2        5  I was 3 months away from my upgrade and my Str...           3.0   \n",
       "3        1                     an experience i want to forget           0.0   \n",
       "4        5        GREAT PHONE WORK ACCORDING MY EXPECTATIONS.           1.0   \n",
       "5        5  I fell in love with this phone because it did ...           0.0   \n",
       "6        5  I am pleased with this Blackberry phone! The p...           0.0   \n",
       "7        5  Great product, best value for money smartphone...           0.0   \n",
       "9        5          I've bought 3 no problems. Fast delivery.           0.0   \n",
       "10       4                       Great phone for the price...           0.0   \n",
       "11       5  My mom is not good with new technoloy but this...           4.0   \n",
       "\n",
       "    Positively_Rated  \n",
       "1                  0  \n",
       "2                  1  \n",
       "3                  0  \n",
       "4                  1  \n",
       "5                  1  \n",
       "6                  1  \n",
       "7                  1  \n",
       "9                  1  \n",
       "10                 1  \n",
       "11                 1  "
      ]
     },
     "execution_count": 2,
     "metadata": {},
     "output_type": "execute_result"
    }
   ],
   "source": [
    "# Drop missing values\n",
    "df.dropna(inplace=True)\n",
    "df = df[df['Rating']!= 3]\n",
    "df['Positively_Rated'] = np.where(df['Rating']>3, 1, 0)\n",
    "df.head(10)"
   ]
  },
  {
   "cell_type": "markdown",
   "metadata": {},
   "source": [
    "## Class Proportion \n",
    "Using simple Pandas Crosstab function you can have a look of what proportion of observations are positively and negatively rated. \n",
    "This step helps a lot while during the modeling part since it is important to know class imbalance before you start building model. Class imbalance affects your model, if you have quite less amount of observations for a certain class over other classes, which at the end becomes difficult for an algorithm to learn and differentiate among other classes due to lack of examples. "
   ]
  },
  {
   "cell_type": "code",
   "execution_count": 3,
   "metadata": {},
   "outputs": [
    {
     "data": {
      "text/html": [
       "<div>\n",
       "<style>\n",
       "    .dataframe thead tr:only-child th {\n",
       "        text-align: right;\n",
       "    }\n",
       "\n",
       "    .dataframe thead th {\n",
       "        text-align: left;\n",
       "    }\n",
       "\n",
       "    .dataframe tbody tr th {\n",
       "        vertical-align: top;\n",
       "    }\n",
       "</style>\n",
       "<table border=\"1\" class=\"dataframe\">\n",
       "  <thead>\n",
       "    <tr style=\"text-align: right;\">\n",
       "      <th>col_0</th>\n",
       "      <th>Total count</th>\n",
       "    </tr>\n",
       "    <tr>\n",
       "      <th>Positively_Rated</th>\n",
       "      <th></th>\n",
       "    </tr>\n",
       "  </thead>\n",
       "  <tbody>\n",
       "    <tr>\n",
       "      <th>0</th>\n",
       "      <td>7771</td>\n",
       "    </tr>\n",
       "    <tr>\n",
       "      <th>1</th>\n",
       "      <td>22966</td>\n",
       "    </tr>\n",
       "  </tbody>\n",
       "</table>\n",
       "</div>"
      ],
      "text/plain": [
       "col_0             Total count\n",
       "Positively_Rated             \n",
       "0                        7771\n",
       "1                       22966"
      ]
     },
     "execution_count": 3,
     "metadata": {},
     "output_type": "execute_result"
    }
   ],
   "source": [
    "pd.crosstab(index = df['Positively_Rated'], columns=\"Total count\")"
   ]
  },
  {
   "cell_type": "markdown",
   "metadata": {},
   "source": [
    "Since the difference is not huge let the proportion be same as this, if the difference in proportion is huge such as 90% of data belongs to one class and 10% belongs to other then it creates some trouble, in our case it is roughly around 34% which is Okay. You can use `sklearn.model_selection.StratifiedShuffleSplit()` for correcting imbalanced classes, The splits are done by preserving the percentage of samples for each class."
   ]
  },
  {
   "cell_type": "markdown",
   "metadata": {},
   "source": [
    "## Splitting Data in to Train and Test Set\n",
    "Splitting Train and Test Set, you are going to split using scikit learn `sklearn.model_selection.train_test_split()` which is random split of datset in to train and test sets. "
   ]
  },
  {
   "cell_type": "code",
   "execution_count": 4,
   "metadata": {
    "collapsed": true
   },
   "outputs": [],
   "source": [
    "from sklearn.model_selection import train_test_split\n",
    "# Split data into training and test sets\n",
    "X_train, X_test, y_train, y_test = train_test_split(df['Reviews'], df['Positively_Rated'], random_state=0)"
   ]
  },
  {
   "cell_type": "code",
   "execution_count": 5,
   "metadata": {
    "scrolled": false
   },
   "outputs": [
    {
     "name": "stdout",
     "output_type": "stream",
     "text": [
      "X_train first entry:\n",
      "\n",
      " Small and very light, simple, when just a phone is needed. Amazing battery life.\n",
      "\n",
      "\n",
      "X_train shape:  (23052,)\n"
     ]
    }
   ],
   "source": [
    "print('X_train first entry:\\n\\n', X_train.iloc[2])\n",
    "print('\\n\\nX_train shape: ', X_train.shape)"
   ]
  },
  {
   "cell_type": "markdown",
   "metadata": {},
   "source": [
    "# Tokenization\n",
    "Now, you'll perform processing on individual sentences or reviews. Each individual review is tokenized into words. Word tokenization is performed using a `sklearn.feature_extraction.text.CountVectorizer()`.  \n",
    "\n",
    "Tokenization converts a collection of text documents to a list of token counts, produces a sparse representation of the counts.\n",
    "For example, if you have a text document `\"this phone i bought, is like a brick in just few months\"`, then `.CountVectorizer()` will convert this text (string) to list format `[this, phone, i, bought, is, like, a, brick, in, just, few months]`.\n",
    "\n",
    "If you want to dig more of how actually `CountVectorizer()` works you can go through [API documentation](http://scikit-learn.org/0.17/modules/generated/sklearn.feature_extraction.text.CountVectorizer.html#sklearn.feature_extraction.text.CountVectorizer)."
   ]
  },
  {
   "cell_type": "code",
   "execution_count": 6,
   "metadata": {
    "collapsed": true
   },
   "outputs": [],
   "source": [
    "from sklearn.feature_extraction.text import CountVectorizer\n",
    "# Fit the CountVectorizer to the training data\n",
    "vect = CountVectorizer().fit(X_train)\n",
    "# Array mapping from feature integer indices to feature name\n",
    "vect.get_feature_names()[::2000] "
   ]
  },
  {
   "cell_type": "code",
   "execution_count": 7,
   "metadata": {
    "scrolled": false
   },
   "outputs": [
    {
     "data": {
      "text/plain": [
       "['00',\n",
       " 'arroja',\n",
       " 'comapañias',\n",
       " 'dvds',\n",
       " 'golden',\n",
       " 'lands',\n",
       " 'oil',\n",
       " 'razonable',\n",
       " 'smallsliver',\n",
       " 'tweak']"
      ]
     },
     "execution_count": 7,
     "metadata": {},
     "output_type": "execute_result"
    }
   ],
   "source": []
  },
  {
   "cell_type": "markdown",
   "metadata": {},
   "source": [
    "## Document Term Matrix \n",
    "A document-term matrix is a mathematical matrix that describes the frequency of terms that occur in a collection of documents. In a document-term matrix, rows correspond to documents in the collection and columns correspond to terms. There are various schemes for determining the value that each entry in the matrix should take. One such scheme is tf-idf. They are useful in the field of natural language processing. [source](https://en.wikipedia.org/wiki/Document-term_matrix)    \n",
    "When creating a database of terms that appear in a set of documents the document-term matrix contains rows corresponding to the documents and columns corresponding to the terms. For instance if one has the following two (short) documents:  \n",
    "\n",
    "D1 = \"I love dancing\"  \n",
    "D2 = \"I hate dancing\",  \n",
    "then the document-term matrix would be:  \n",
    "\n",
    "|     |I  |love|hate|dancing  |\n",
    "|-----|---|----|----|---------|\n",
    "|D1\t  |1  |1   |0   |1        |\n",
    "|D2\t  |1  |0   |1   |1        |         \n",
    "\n",
    "which shows which documents contain which terms and how many times they appear.  \n",
    "\n",
    "Note that more sophisticated weights can be used; one typical example, among others, would be tf-idf, you will be using this technique in coming sections.   \n",
    "\n",
    "Now you have tokenized matrix of text document or reviews, you can use Logistic Regression or any other classifier to classify between the Negative and Positive Reviews for the limitation of this tutorial and just to show the intent of text classification and feature extraction techniques let us use logistic regression. Before you do that just have a look how feature matrix look like, using `Vectorizer.transform()` to make a document term matrix. "
   ]
  },
  {
   "cell_type": "code",
   "execution_count": 8,
   "metadata": {},
   "outputs": [
    {
     "name": "stdout",
     "output_type": "stream",
     "text": [
      "Shape of matrix (23052, 19601)\n",
      "[0 0 0 ... 0 0 0]\n"
     ]
    }
   ],
   "source": [
    "# transform the documents in the training data to a document-term matrix\n",
    "X_train_vectorized = vect.transform(X_train)\n",
    "print('Shape of matrix', X_train_vectorized.shape)\n",
    "print(X_train_vectorized.toarray()[2])"
   ]
  },
  {
   "cell_type": "markdown",
   "metadata": {},
   "source": [
    "## First Classification Model\n",
    "Now, you are ready to build your first classification model, you are using `sklearn.linear_model.LogisticRegression()` from scikit learn as our first model. "
   ]
  },
  {
   "cell_type": "code",
   "execution_count": 9,
   "metadata": {
    "scrolled": true
   },
   "outputs": [
    {
     "data": {
      "text/plain": [
       "LogisticRegression(C=1.0, class_weight=None, dual=False, fit_intercept=True,\n",
       "          intercept_scaling=1, max_iter=100, multi_class='ovr', n_jobs=1,\n",
       "          penalty='l2', random_state=None, solver='liblinear', tol=0.0001,\n",
       "          verbose=0, warm_start=False)"
      ]
     },
     "execution_count": 9,
     "metadata": {},
     "output_type": "execute_result"
    }
   ],
   "source": [
    "from sklearn.linear_model import LogisticRegression,SGDClassifier\n",
    "# Train the model\n",
    "model = LogisticRegression()\n",
    "\n",
    "model.fit(X_train_vectorized, y_train)"
   ]
  },
  {
   "cell_type": "markdown",
   "metadata": {},
   "source": [
    "### Model Scoring\n",
    "From the Logistic Regression Output you can use AUC metric to validate or test your model on Test dataset, just to make sure how good a model is performing on new dataset."
   ]
  },
  {
   "cell_type": "code",
   "execution_count": 10,
   "metadata": {
    "scrolled": false
   },
   "outputs": [
    {
     "name": "stdout",
     "output_type": "stream",
     "text": [
      "AUC:  0.8974332776669326\n"
     ]
    }
   ],
   "source": [
    "from sklearn.metrics import roc_curve, roc_auc_score, auc\n",
    "# Predict the transformed test documents\n",
    "predictions = model.predict(vect.transform(X_test))\n",
    "print('AUC: ', roc_auc_score(y_test, predictions))\n",
    "false_positive_rate, true_positive_rate, thresholds = roc_curve(y_test, predictions)\n",
    "roc_auc = auc(false_positive_rate, true_positive_rate)"
   ]
  },
  {
   "cell_type": "code",
   "execution_count": 11,
   "metadata": {
    "scrolled": false
   },
   "outputs": [
    {
     "data": {
      "text/plain": [
       "Text(0.5,0,'False Positive Rate')"
      ]
     },
     "execution_count": 11,
     "metadata": {},
     "output_type": "execute_result"
    },
    {
     "data": {
      "image/png": "[encoded data removed]",
      "text/plain": [
       "<matplotlib.figure.Figure at 0x1e6891053c8>"
      ]
     },
     "metadata": {},
     "output_type": "display_data"
    }
   ],
   "source": [
    "plt.title('Receiver Operating Characteristic')\n",
    "plt.plot(false_positive_rate, true_positive_rate, 'b', label='AUC = %0.3f'% roc_auc)\n",
    "plt.legend(loc='lower right')\n",
    "plt.plot([0,1],[0,1],'r--')\n",
    "plt.ylabel('True Positive Rate')\n",
    "plt.xlabel('False Positive Rate')"
   ]
  },
  {
   "cell_type": "markdown",
   "metadata": {},
   "source": [
    "Wow, looks like a Pretty good Score! for initial modelling, let us try out if you can further improve your model score."
   ]
  },
  {
   "cell_type": "markdown",
   "metadata": {},
   "source": [
    "# Tf-Idf\n",
    "As already discussed earlier you will be using Tf-Idf technique, in this section you are going to create your document term matrix using `TfidfVectorizer()` available within sklearn.\n",
    "\n",
    "There are some parameters which needs to be defined while building vocabullary or Tf-Idf matrix such as, `min_df` and `max_df`.  \n",
    " - `min_df` is used for removing terms that appear too infrequently. For example:    \n",
    " - `min_df` = 0.01 means \"ignore terms that appear in less than 1% of the documents\".  \n",
    " - `min_df` = 5 means \"ignore terms that appear in less than 5 documents\".  \n",
    "\n",
    "The default `min_df` is 1.0, which means \"ignore terms that appear in less than 1 document\". Thus, the default setting does not ignore any terms.      \n",
    "\n",
    " - `max_df` is used for removing terms that appear too frequently, also known as \"corpus-specific stop words\". For example:   \n",
    " - `max_df` = 0.50 means \"ignore terms that appear in more than 50% of the documents\".  \n",
    " - `max_df` = 25 means \"ignore terms that appear in more than 25 documents\".  \n",
    "\n",
    "The default max_df is 1.0, which means \"ignore terms that appear in more than 100% of the documents\". Thus, the default setting does not ignore any terms.  \n",
    "\n",
    "Setting `min_df = 5` and `max_df = 1.0 (default)`  \n",
    "Which means while building the vocabulary ignore terms that have a document frequency strictly lower than the given threshold, which means not keeping words those do not occur in atleast 5 documents or reviews (in our context), this can be considered as a hyperparmater which directly affects accuracy of your model so you need to do a trial or a grid search to find what value of `min_df` or `max_df` gives best result, again it highly depends on your data. This value is also called cut-off in the literature."
   ]
  },
  {
   "cell_type": "code",
   "execution_count": 12,
   "metadata": {
    "collapsed": true
   },
   "outputs": [],
   "source": [
    "from sklearn.feature_extraction.text import TfidfVectorizer\n",
    "# Fit the TfidfVectorizer to the training data specifiying a minimum document frequency of 5; \n",
    "# you can play with it and see how accuracy changes \n",
    "vect_tf = TfidfVectorizer(min_df=5).fit(X_train)"
   ]
  },
  {
   "cell_type": "code",
   "execution_count": 13,
   "metadata": {},
   "outputs": [
    {
     "name": "stdout",
     "output_type": "stream",
     "text": [
      "AUC:  0.8974332776669326\n"
     ]
    }
   ],
   "source": [
    "X_train_vectorized_tf = vect.transform(X_train)\n",
    "model = LogisticRegression()\n",
    "model.fit(X_train_vectorized_tf, y_train)\n",
    "predictions_tf = model.predict(vect.transform(X_test))\n",
    "print('AUC: ', roc_auc_score(y_test, predictions_tf))"
   ]
  },
  {
   "cell_type": "markdown",
   "metadata": {},
   "source": [
    "# n-grams\n",
    "Before going to n-grams let us first understand from where does this term comes and and what does it actually mean?\n",
    "Unigram means a single word. In a unigram tagger, a single token is used to find the particular parts-of-speech tag.\n",
    "So when you extend a token to be comprised of more than one word for example if a token is of size 2, is a \"bigram\" ; size 3 is a \"trigram\", \"four-gram\", \"five-gram\" and so on to **\"n-grams\"**.\n",
    "\n",
    "<img src=\"http://recognize-speech.com/images/Antonio/Unigram.png\">\n",
    "[source](http://recognize-speech.com/language-model/n-gram-model/comparison)\n",
    "\n",
    "Now a question arises why do you need n-grams when already have a pretty good model evaluation. Let us have a look why do you need this technique. "
   ]
  },
  {
   "cell_type": "code",
   "execution_count": 31,
   "metadata": {},
   "outputs": [
    {
     "name": "stdout",
     "output_type": "stream",
     "text": [
      "[1 0]\n"
     ]
    }
   ],
   "source": [
    "# These reviews are treated the same by our current model\n",
    "print(model.predict(vect.transform(['not an issue, phone is working',\n",
    "                                    'an issue, now touch is not working'])))"
   ]
  },
  {
   "cell_type": "markdown",
   "metadata": {},
   "source": [
    "The two given text still not identified correctly like which one is positive or negative. If you see the problem n-grams words for example, \"an issue\" is a bigram so you can introduce the usage of n-grams terms in our model and see the effect."
   ]
  },
  {
   "cell_type": "code",
   "execution_count": 22,
   "metadata": {
    "collapsed": true
   },
   "outputs": [],
   "source": [
    "# Fit the CountVectorizer to the training data specifiying a minimum \n",
    "# document frequency of 5 and extracting 1-grams and 2-grams\n",
    "vect = CountVectorizer(min_df=5, ngram_range=(1,2)).fit(X_train)\n",
    "X_train_vectorized = vect.transform(X_train)"
   ]
  },
  {
   "cell_type": "code",
   "execution_count": 23,
   "metadata": {},
   "outputs": [
    {
     "name": "stdout",
     "output_type": "stream",
     "text": [
      "AUC:  0.9110661794597458\n"
     ]
    }
   ],
   "source": [
    "model = LogisticRegression()\n",
    "model.fit(X_train_vectorized, y_train)\n",
    "predictions = model.predict(vect.transform(X_test))\n",
    "false_positive_rate, true_positive_rate, thresholds = roc_curve(y_test, predictions)\n",
    "roc_auc = auc(false_positive_rate, true_positive_rate)\n",
    "print('AUC: ', roc_auc_score(y_test, predictions))"
   ]
  },
  {
   "cell_type": "markdown",
   "metadata": {},
   "source": [
    "Here you can usng n-grams technique which increases the accuracy of model, but why? "
   ]
  },
  {
   "cell_type": "code",
   "execution_count": 24,
   "metadata": {},
   "outputs": [
    {
     "data": {
      "text/plain": [
       "Text(0.5,0,'False Positive Rate')"
      ]
     },
     "execution_count": 24,
     "metadata": {},
     "output_type": "execute_result"
    },
    {
     "data": {
      "image/png": "[encoded data removed]",
      "text/plain": [
       "<matplotlib.figure.Figure at 0x1e689d43630>"
      ]
     },
     "metadata": {},
     "output_type": "display_data"
    }
   ],
   "source": [
    "plt.title('Receiver Operating Characteristic')\n",
    "plt.plot(false_positive_rate, true_positive_rate, 'b', label='AUC = %0.3f'% roc_auc)\n",
    "plt.legend(loc='lower right')\n",
    "plt.plot([0,1],[0,1],'r--')\n",
    "plt.ylabel('True Positive Rate')\n",
    "plt.xlabel('False Positive Rate')"
   ]
  },
  {
   "cell_type": "markdown",
   "metadata": {},
   "source": [
    "Here is the reason why using n-grams increases the accuracy of model, by using bigrams it helps model to better understand sentiments of words such as, \"no issue\", \"an issue\".   \n",
    "These reviews are now correctly identified, which was not possible until you have used n-grams technique. "
   ]
  },
  {
   "cell_type": "code",
   "execution_count": 25,
   "metadata": {},
   "outputs": [
    {
     "name": "stdout",
     "output_type": "stream",
     "text": [
      "[1 0]\n"
     ]
    }
   ],
   "source": [
    "print(model.predict(vect.transform(['not an issue, phone is working',\n",
    "                                    'an issue, touch is not working'])))"
   ]
  },
  {
   "cell_type": "code",
   "execution_count": 36,
   "metadata": {},
   "outputs": [
    {
     "name": "stdout",
     "output_type": "stream",
     "text": [
      "[1]\n"
     ]
    }
   ],
   "source": [
    "# Try a random review but be sure the words belongs to document term matrix or dictionary built from training set!\n",
    "print(model.predict(vect.transform(['when i click selfie i do not loo'])))"
   ]
  },
  {
   "cell_type": "markdown",
   "metadata": {},
   "source": [
    "This is the effect of using n-grams based term-document matrix, hope you have a clear idea of how to use in your text classification model. "
   ]
  },
  {
   "cell_type": "markdown",
   "metadata": {
    "collapsed": true
   },
   "source": [
    "## Conclusion\n",
    "This Tutorial presents a minimal Text Analysis and classification application to Amazon Unlocked Mobile Reviews, Where you are classifying the labels as Positive and Negative based on the ratings of reviews. For Classification you have used a simple Logistic Regression Classifier to predict a Positive or Negative Review based on the review text, but you can further extend this tutorial using some other Classifier algorithm like Decision Tree or Naive bayes but since with logistic regression and using n-grams feature extraction methods we are getting more than 91% accuracy and just to make this tutorial limited and focussed on text classfication hence it does not require to use any other classifier in this tutorial. "
   ]
  },
  {
   "cell_type": "markdown",
   "metadata": {},
   "source": [
    "## References "
   ]
  },
  {
   "cell_type": "code",
   "execution_count": null,
   "metadata": {
    "collapsed": true
   },
   "outputs": [],
   "source": [
    "Ups and downs: Modeling the visual evolution of fashion trends with one-class collaborative filtering\n",
    "R. He, J. McAuley\n",
    "WWW, 2016"
   ]
  }
 ],
 "metadata": {
  "kernelspec": {
   "display_name": "Python 3",
   "language": "python",
   "name": "python3"
  },
  "language_info": {
   "codemirror_mode": {
    "name": "ipython",
    "version": 3
   },
   "file_extension": ".py",
   "mimetype": "text/x-python",
   "name": "python",
   "nbconvert_exporter": "python",
   "pygments_lexer": "ipython3",
   "version": "3.6.3"
  }
 },
 "nbformat": 4,
 "nbformat_minor": 2
}
